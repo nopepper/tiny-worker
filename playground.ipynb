{
 "cells": [
  {
   "cell_type": "code",
   "execution_count": 1,
   "metadata": {},
   "outputs": [
    {
     "name": "stdout",
     "output_type": "stream",
     "text": [
      "Single-threaded execution:\n",
      "Time taken: 2.00 seconds\n",
      "Results: [[0.0, 0.7456241416655579, 0.7890723435728884, 0.14065207678644337, -0.6866002607386249], [0.7456241416655579, 0.7890723435728884, 0.14065207678644337, -0.6866002607386249, -0.8185741444617193], [0.7890723435728884, 0.14065207678644337, -0.6866002607386249, -0.8185741444617193, -0.2757938627540786]]...\n",
      "\n",
      "Multi-threaded execution:\n",
      "Time taken: 0.20 seconds\n",
      "Results: [[0.0, 0.7456241416655579, 0.7890723435728884, 0.14065207678644337, -0.6866002607386249], [0.7456241416655579, 0.7890723435728884, 0.14065207678644337, -0.6866002607386249, -0.8185741444617193], [0.7890723435728884, 0.14065207678644337, -0.6866002607386249, -0.8185741444617193, -0.2757938627540786]]...\n",
      "\n",
      "Multi-process execution:\n",
      "Time taken: 0.39 seconds\n",
      "Results: [[0.0, 0.7456241416655579, 0.7890723435728884, 0.14065207678644337, -0.6866002607386249], [0.7456241416655579, 0.7890723435728884, 0.14065207678644337, -0.6866002607386249, -0.8185741444617193], [0.7890723435728884, 0.14065207678644337, -0.6866002607386249, -0.8185741444617193, -0.2757938627540786]]...\n"
     ]
    }
   ],
   "source": [
    "import time\n",
    "from tiny_worker.worker import TinyWorker, TinyTroupe\n",
    "from typing import List\n",
    "import math\n",
    "from hello import NumberCruncherWorker, cruncher\n",
    "\n",
    "\n",
    "# Create test data\n",
    "test_data = [[float(x) for x in range(i, i + 5)] for i in range(10)]\n",
    "\n",
    "# Example 1: Single-threaded execution\n",
    "print(\"Single-threaded execution:\")\n",
    "start_time = time.time()\n",
    "results = [cruncher(cruncher(nums)) for nums in test_data]\n",
    "print(f\"Time taken: {time.time() - start_time:.2f} seconds\")\n",
    "print(f\"Results: {results[:3]}...\")\n",
    "\n",
    "# Example 2: Multi-threaded execution\n",
    "print(\"\\nMulti-threaded execution:\")\n",
    "troupe = TinyTroupe(func=cruncher, num_workers=32, context_type=\"thread\")\n",
    "troupe.start()\n",
    "\n",
    "start_time = time.time()\n",
    "futures = [troupe.submit(troupe.submit(nums)) for nums in test_data]\n",
    "results = [future.result() for future in futures]\n",
    "print(f\"Time taken: {time.time() - start_time:.2f} seconds\")\n",
    "print(f\"Results: {results[:3]}...\")\n",
    "troupe.stop()\n",
    "\n",
    "# Example 3: Multi-process execution\n",
    "print(\"\\nMulti-process execution:\")\n",
    "troupe = TinyTroupe(func=cruncher, num_workers=8, context_type=\"spawn\")\n",
    "troupe.start()\n",
    "\n",
    "start_time = time.time()\n",
    "futures = [troupe.submit(troupe.submit(nums)) for nums in test_data]\n",
    "results = [future.result() for future in futures]\n",
    "print(f\"Time taken: {time.time() - start_time:.2f} seconds\")\n",
    "print(f\"Results: {results[:3]}...\")\n",
    "troupe.stop()"
   ]
  }
 ],
 "metadata": {
  "kernelspec": {
   "display_name": ".venv",
   "language": "python",
   "name": "python3"
  },
  "language_info": {
   "codemirror_mode": {
    "name": "ipython",
    "version": 3
   },
   "file_extension": ".py",
   "mimetype": "text/x-python",
   "name": "python",
   "nbconvert_exporter": "python",
   "pygments_lexer": "ipython3",
   "version": "3.10.16"
  }
 },
 "nbformat": 4,
 "nbformat_minor": 2
}
